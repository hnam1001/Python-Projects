{
 "cells": [
  {
   "cell_type": "markdown",
   "source": [
    "# Introduction\n",
    "\n",
    "Opening your comic book store, the Sorcery Society, has been a lifelong dream come true. You quickly diversified your shop offerings to include miniatures, plush toys, collectible card games, and board games. Eventually, the store became more a games store with a selection of this week's newest comic books and a small offering of graphic novel paperbacks. Completing your transformation means offering space for local tabletop gamers. They love to play their favorite RPG, \"Abruptly Goblins!\" and will happily pay you per chair to secure the space to do it. Unfortunately, planning the game night has fallen to you. If you pick the wrong night, not enough people will come and the game night will be cancelled. You decide it's best that you automate the game night selector to get the most people through the door. First you need to create a list of people who will be attending the game night.\n",
    "\n",
    "**Instructions**\n",
    "\n",
    "Create an empty list called `gamers`. This will be your list of people who are attending game night."
   ],
   "metadata": {}
  },
  {
   "cell_type": "code",
   "execution_count": 10,
   "source": [
    "gamers = []"
   ],
   "outputs": [],
   "metadata": {}
  },
  {
   "cell_type": "markdown",
   "source": [
    "Now we want to create a function that will update this list and add a new gamer to the this `gamers` list. Each `gamer` should be a dictionary with the following keys:\n",
    " - `\"name\"`: a string that contains the gamer's full or presumed name. E.g., \"Vicky Very\"\n",
    " - `\"availability\"`: a list of strings containing the names of the days of the week that the gamer is available. E.g., [\"Monday\", \"Thursday\", \"Sunday\"]\n",
    " \n",
    "**Instructions**\n",
    "\n",
    "Create a function called `add_gamer` that takes two parameters: `gamer` and `gamers_list`. The function should check that the argument passed to the `gamer` parameter has both `\"name\"` and a `\"availability\"` as keys and if so add `gamer` to `gamers_list`."
   ],
   "metadata": {}
  },
  {
   "cell_type": "code",
   "execution_count": 11,
   "source": [
    "def add_gamer(gamer,gamers_list):\r\n",
    "    if gamer.get(\"name\") and gamer.get(\"availability\"):\r\n",
    "        gamers_list.append(gamer)\r\n",
    "    else:\r\n",
    "        \"Missing data\"\r\n",
    "        "
   ],
   "outputs": [],
   "metadata": {}
  },
  {
   "cell_type": "markdown",
   "source": [
    "Next we want to add our first gamer! Her name is Kimberly Warner and she's available on Mondays, Tuesdays, and Fridays.\n",
    "\n",
    "**Instructions**\n",
    "\n",
    "1. Create a dictionary called `kimberly` with the name and availability given above.\n",
    "2. Call `add_gamer` with `kimberly` as the first argument and `gamers` as the second."
   ],
   "metadata": {}
  },
  {
   "cell_type": "code",
   "execution_count": 12,
   "source": [
    "kimberly = {\r\n",
    "    \"name\" : \"kimberly\",\r\n",
    "    \"availability\" : [\"Monday\",\"Tuesday\",\"Friday\"]\r\n",
    "}\r\n",
    "\r\n",
    "add_gamer(kimberly,gamers)\r\n",
    "print(gamers)\r\n"
   ],
   "outputs": [
    {
     "output_type": "stream",
     "name": "stdout",
     "text": [
      "[{'name': 'kimberly', 'availability': ['Monday', 'Tuesday', 'Friday']}]\n"
     ]
    }
   ],
   "metadata": {}
  },
  {
   "cell_type": "markdown",
   "source": [
    "Great! Let's add a couple more gamers to the list!"
   ],
   "metadata": {}
  },
  {
   "cell_type": "code",
   "execution_count": 13,
   "source": [
    "add_gamer({'name':'Thomas Nelson','availability': [\"Tuesday\", \"Thursday\", \"Saturday\"]}, gamers)\r\n",
    "add_gamer({'name':'Joyce Sellers','availability': [\"Monday\", \"Wednesday\", \"Friday\", \"Saturday\"]}, gamers)\r\n",
    "add_gamer({'name':'Michelle Reyes','availability': [\"Wednesday\", \"Thursday\", \"Sunday\"]}, gamers)\r\n",
    "add_gamer({'name':'Stephen Adams','availability': [\"Thursday\", \"Saturday\"]}, gamers)\r\n",
    "add_gamer({'name': 'Joanne Lynn', 'availability': [\"Monday\", \"Thursday\"]}, gamers)\r\n",
    "add_gamer({'name':'Latasha Bryan','availability': [\"Monday\", \"Sunday\"]}, gamers)\r\n",
    "add_gamer({'name':'Crystal Brewer','availability': [\"Thursday\", \"Friday\", \"Saturday\"]}, gamers)\r\n",
    "add_gamer({'name':'James Barnes Jr.','availability': [\"Tuesday\", \"Wednesday\", \"Thursday\", \"Sunday\"]}, gamers)\r\n",
    "add_gamer({'name':'Michel Trujillo','availability': [\"Monday\", \"Tuesday\", \"Wednesday\"]}, gamers)\r\n",
    "\r\n",
    "gamers"
   ],
   "outputs": [
    {
     "output_type": "execute_result",
     "data": {
      "text/plain": [
       "[{'name': 'kimberly', 'availability': ['Monday', 'Tuesday', 'Friday']},\n",
       " {'name': 'Thomas Nelson',\n",
       "  'availability': ['Tuesday', 'Thursday', 'Saturday']},\n",
       " {'name': 'Joyce Sellers',\n",
       "  'availability': ['Monday', 'Wednesday', 'Friday', 'Saturday']},\n",
       " {'name': 'Michelle Reyes',\n",
       "  'availability': ['Wednesday', 'Thursday', 'Sunday']},\n",
       " {'name': 'Stephen Adams', 'availability': ['Thursday', 'Saturday']},\n",
       " {'name': 'Joanne Lynn', 'availability': ['Monday', 'Thursday']},\n",
       " {'name': 'Latasha Bryan', 'availability': ['Monday', 'Sunday']},\n",
       " {'name': 'Crystal Brewer',\n",
       "  'availability': ['Thursday', 'Friday', 'Saturday']},\n",
       " {'name': 'James Barnes Jr.',\n",
       "  'availability': ['Tuesday', 'Wednesday', 'Thursday', 'Sunday']},\n",
       " {'name': 'Michel Trujillo',\n",
       "  'availability': ['Monday', 'Tuesday', 'Wednesday']}]"
      ]
     },
     "metadata": {},
     "execution_count": 13
    }
   ],
   "metadata": {}
  },
  {
   "cell_type": "markdown",
   "source": [
    "## Finding the perfect availability\n",
    "\n",
    "Now that we have a list of all of the people interested in game night, we want to be able to calculate which nights would have the most participation. First we need to create a frequency table which correlates each day of the week with gamer availability.\n",
    "\n",
    "**Instructions**\n",
    "\n",
    "Create a function called `build_daily_frequency_table` that takes no argument returns a dictionary with the days of the week as keys and `0`s for values. We'll be using this to count the availability per night. Call `build_daily_frequency_table` and save the results to a variable called `count_availability`."
   ],
   "metadata": {}
  },
  {
   "cell_type": "code",
   "execution_count": 15,
   "source": [
    "def build_daily_frequenct_table():\r\n",
    "    return {\r\n",
    "        \"Monday\" : 0,\r\n",
    "        \"Tuesday\": 0,\r\n",
    "        \"Wednesday\" : 0,\r\n",
    "        \"Thursday\" : 0,\r\n",
    "        \"Friday\" : 0,\r\n",
    "        \"Saturday\" : 0,\r\n",
    "        \"Sunday\" : 0\r\n",
    "    }\r\n",
    "\r\n",
    "count_availability = build_daily_frequenct_table()\r\n",
    "count_availability   "
   ],
   "outputs": [
    {
     "output_type": "execute_result",
     "data": {
      "text/plain": [
       "{'Monday': 0,\n",
       " 'Tuesday': 0,\n",
       " 'Wednesday': 0,\n",
       " 'Thursday': 0,\n",
       " 'Friday': 0,\n",
       " 'Saturday': 0,\n",
       " 'Sunday': 0}"
      ]
     },
     "metadata": {},
     "execution_count": 15
    }
   ],
   "metadata": {}
  },
  {
   "cell_type": "markdown",
   "source": [
    "Next we need to count the number of people every night.\n",
    "\n",
    "**Instructions**\n",
    "\n",
    "Write a function called `calculate_availability` that takes a list of gamers as an argument `gamers_list` and a frequency table `available_frequency`. The function should iterate through each gamer in `gamers_list` and iterate through each day in the gamer's availability. For each day in the gamer's availability, add one to that date on the frequency table."
   ],
   "metadata": {}
  },
  {
   "cell_type": "code",
   "execution_count": 16,
   "source": [
    "def calculate_availabilty(gamer_list, available_frequency):\r\n",
    "    for gamer in gamer_list:\r\n",
    "        for day in gamer[\"availability\"]:\r\n",
    "            available_frequency[day] += 1\r\n"
   ],
   "outputs": [],
   "metadata": {}
  },
  {
   "cell_type": "markdown",
   "source": [
    "Now let's use these tools to find the best night to run Abruptly Goblins!\n",
    "\n",
    "**Instructions**\n",
    "\n",
    "Call `calculate_availability` with `gamers` and `count_availability`. Print out `count_availability` afterwards."
   ],
   "metadata": {}
  },
  {
   "cell_type": "code",
   "execution_count": 18,
   "source": [
    "calculate_availabilty(gamers, count_availability)\r\n",
    "count_availability"
   ],
   "outputs": [
    {
     "output_type": "execute_result",
     "data": {
      "text/plain": [
       "{'Monday': 10,\n",
       " 'Tuesday': 8,\n",
       " 'Wednesday': 8,\n",
       " 'Thursday': 12,\n",
       " 'Friday': 6,\n",
       " 'Saturday': 8,\n",
       " 'Sunday': 6}"
      ]
     },
     "metadata": {},
     "execution_count": 18
    }
   ],
   "metadata": {
    "scrolled": true
   }
  },
  {
   "cell_type": "markdown",
   "source": [
    "Lastly we need a way to pick the day with the most available people to attend so that we can schedule game night on that night.\n",
    "\n",
    "**Instructions**\n",
    "\n",
    "Write a function `find_best_night` that takes a dictionary `availability_table` and returns the key with the highest number."
   ],
   "metadata": {}
  },
  {
   "cell_type": "code",
   "execution_count": 23,
   "source": [
    "def find_best_night(availability_table):\r\n",
    "    return max(availability_table, key=availability_table.get)\r\n"
   ],
   "outputs": [],
   "metadata": {}
  },
  {
   "cell_type": "markdown",
   "source": [
    "Now let's find the best day to host game night.\n",
    "\n",
    "**Instructions**\n",
    "\n",
    "Call `find_best_night` with `count_availability`, store the result in a variable called `game_night`.\n",
    "Print out `game_night` to find out which day it is."
   ],
   "metadata": {}
  },
  {
   "cell_type": "code",
   "execution_count": 25,
   "source": [
    "game_night = find_best_night(count_availability)\r\n",
    "game_night"
   ],
   "outputs": [
    {
     "output_type": "execute_result",
     "data": {
      "text/plain": [
       "'Thursday'"
      ]
     },
     "metadata": {},
     "execution_count": 25
    }
   ],
   "metadata": {}
  },
  {
   "cell_type": "markdown",
   "source": [
    "And let's make a list of all of the people who are available that night.\n",
    "\n",
    "**Instructions**\n",
    "\n",
    "* Create a function `available_on_night` that takes two parameters: `gamers_list` and `day` and returns a list of people who are available on that particular day.\n",
    "* Call `available_on_night` with `gamers` and `game_night` and save the result into the variable `attending_game_night`.\n",
    "* Print `attending_game_night`."
   ],
   "metadata": {}
  },
  {
   "cell_type": "code",
   "execution_count": 30,
   "source": [
    "def available_on_night(gamers_list, day):\r\n",
    "    return [gamer for gamer in gamers_list if day in gamer[\"availability\"]]\r\n",
    "\r\n",
    "attending_game_night = available_on_night(gamers,game_night)\r\n",
    "attending_game_night"
   ],
   "outputs": [
    {
     "output_type": "execute_result",
     "data": {
      "text/plain": [
       "[{'name': 'Thomas Nelson',\n",
       "  'availability': ['Tuesday', 'Thursday', 'Saturday']},\n",
       " {'name': 'Michelle Reyes',\n",
       "  'availability': ['Wednesday', 'Thursday', 'Sunday']},\n",
       " {'name': 'Stephen Adams', 'availability': ['Thursday', 'Saturday']},\n",
       " {'name': 'Joanne Lynn', 'availability': ['Monday', 'Thursday']},\n",
       " {'name': 'Crystal Brewer',\n",
       "  'availability': ['Thursday', 'Friday', 'Saturday']},\n",
       " {'name': 'James Barnes Jr.',\n",
       "  'availability': ['Tuesday', 'Wednesday', 'Thursday', 'Sunday']}]"
      ]
     },
     "metadata": {},
     "execution_count": 30
    }
   ],
   "metadata": {}
  },
  {
   "cell_type": "markdown",
   "source": [
    "## Generating an E-mail for the Participants\n",
    "\n",
    "With the best day for Abruptly Goblins! determined with computer precision, we need to let the attendees know that the game night is on a night they can attend. Let's start by creating a form email to send to each of the participants that we'll fill out with data later.\n",
    "\n",
    "**Instructions**\n",
    "\n",
    "Define a string, called `form_email` with interpolation variables `{name}`, `{day_of_week}`, and `{game}` (in case we decide we want to use this featureset to host a different game night). Use it to tell your gaming attendees the night their Abruptly Goblins! game can be played."
   ],
   "metadata": {}
  },
  {
   "cell_type": "code",
   "execution_count": 45,
   "source": [
    "form_email = \"\"\"\r\n",
    "\r\n",
    "Dear {name} !\r\n",
    "\r\n",
    "The Socrecy Society is pleased to host {game} on {day_of_week}, come by and have a blast!\r\n",
    "\r\n",
    "Regards,\r\n",
    "The Socrecy Society\r\n",
    "\r\n",
    "\r\n",
    "\"\"\""
   ],
   "outputs": [],
   "metadata": {}
  },
  {
   "cell_type": "markdown",
   "source": [
    "**Instructions**\n",
    "\n",
    "Create a function `send_email` with three parameters: `gamers_who_can_attend`, `day`, and `game`. Print `form_email` for each gamer in `gamers_who_can_attend` with the appropriate `day` and `game`.\n",
    "Call `send_email` with `attending_game_night`, `game_night`, and `\"Abruptly Goblins!\"`."
   ],
   "metadata": {}
  },
  {
   "cell_type": "code",
   "execution_count": 46,
   "source": [
    "def send_email(gamers_who_can_attend, day, game):\r\n",
    "    for gamer in gamers_who_can_attend:\r\n",
    "        print(form_email.format(name = gamer[\"name\"],day_of_week = day,game = game))\r\n",
    "\r\n",
    "send_email(attending_game_night, game_night, \"Abruptly Goblins!\")"
   ],
   "outputs": [
    {
     "output_type": "stream",
     "name": "stdout",
     "text": [
      "\n",
      "\n",
      "Dear Thomas Nelson !\n",
      "\n",
      "The Socrecy Society is pleased to host Abruptly Goblins! on Thursday, come by and have a blast!\n",
      "\n",
      "Regards,\n",
      "The Socrecy Society\n",
      "\n",
      "\n",
      "\n",
      "\n",
      "\n",
      "Dear Michelle Reyes !\n",
      "\n",
      "The Socrecy Society is pleased to host Abruptly Goblins! on Thursday, come by and have a blast!\n",
      "\n",
      "Regards,\n",
      "The Socrecy Society\n",
      "\n",
      "\n",
      "\n",
      "\n",
      "\n",
      "Dear Stephen Adams !\n",
      "\n",
      "The Socrecy Society is pleased to host Abruptly Goblins! on Thursday, come by and have a blast!\n",
      "\n",
      "Regards,\n",
      "The Socrecy Society\n",
      "\n",
      "\n",
      "\n",
      "\n",
      "\n",
      "Dear Joanne Lynn !\n",
      "\n",
      "The Socrecy Society is pleased to host Abruptly Goblins! on Thursday, come by and have a blast!\n",
      "\n",
      "Regards,\n",
      "The Socrecy Society\n",
      "\n",
      "\n",
      "\n",
      "\n",
      "\n",
      "Dear Crystal Brewer !\n",
      "\n",
      "The Socrecy Society is pleased to host Abruptly Goblins! on Thursday, come by and have a blast!\n",
      "\n",
      "Regards,\n",
      "The Socrecy Society\n",
      "\n",
      "\n",
      "\n",
      "\n",
      "\n",
      "Dear James Barnes Jr. !\n",
      "\n",
      "The Socrecy Society is pleased to host Abruptly Goblins! on Thursday, come by and have a blast!\n",
      "\n",
      "Regards,\n",
      "The Socrecy Society\n",
      "\n",
      "\n",
      "\n"
     ]
    }
   ],
   "metadata": {}
  },
  {
   "cell_type": "markdown",
   "source": [
    "### Afterward\n",
    "\n",
    "You feel bad for the folks who weren't able to attend on the decided upon game night, and try to use your currently written methods to have a second game night of the week.\n",
    "\n",
    "**Instructions**\n",
    "\n",
    "* Create a list `unable_to_attend_best_night` of everyone in `gamers` that wasn't able to attend game night on `game_night`.\n",
    "* Create `second_night_availability` frequency table by calling `build_daily_frequency_table`.\n",
    "* Call `calculate_availability` with `unable_to_attend_best_night` and `second_night_availability`.\n",
    "* Call `find_best_night` with the now filled-in `second_night_availability`, save the results in `second_night`.\n"
   ],
   "metadata": {}
  },
  {
   "cell_type": "code",
   "execution_count": 47,
   "source": [
    "unable_to_attend_best_night = [gamer for gamer in gamers if not game_night in gamer[\"availability\"]]\r\n",
    "second_night_availability = build_daily_frequenct_table()\r\n",
    "calculate_availabilty(unable_to_attend_best_night,second_night_availability)\r\n",
    "second_night = find_best_night(second_night_availability)\r\n",
    "second_night"
   ],
   "outputs": [
    {
     "output_type": "execute_result",
     "data": {
      "text/plain": [
       "'Monday'"
      ]
     },
     "metadata": {},
     "execution_count": 47
    }
   ],
   "metadata": {}
  },
  {
   "cell_type": "markdown",
   "source": [
    "Let's send out an email to everyone (whether they can attend the first night or not) whose marked themselves as available on our second game night.\n",
    "\n",
    "**Instructions**\n",
    "\n",
    "* Create the list `available_second_game_night` by calling `available_on_night` with `gamers` and `second_night`\n",
    "* Let the gamers know by calling `send_email` with `available_second_game_night`, `second_night`, and \"Abruptly Goblins!\""
   ],
   "metadata": {}
  },
  {
   "cell_type": "code",
   "execution_count": 48,
   "source": [
    "availability_second_game_night = available_on_night(gamers,second_night)\r\n",
    "send_email(availability_second_game_night, second_night, \"Aruptly Goblins!\")"
   ],
   "outputs": [
    {
     "output_type": "stream",
     "name": "stdout",
     "text": [
      "\n",
      "\n",
      "Dear kimberly !\n",
      "\n",
      "The Socrecy Society is pleased to host Aruptly Goblins! on Monday, come by and have a blast!\n",
      "\n",
      "Regards,\n",
      "The Socrecy Society\n",
      "\n",
      "\n",
      "\n",
      "\n",
      "\n",
      "Dear Joyce Sellers !\n",
      "\n",
      "The Socrecy Society is pleased to host Aruptly Goblins! on Monday, come by and have a blast!\n",
      "\n",
      "Regards,\n",
      "The Socrecy Society\n",
      "\n",
      "\n",
      "\n",
      "\n",
      "\n",
      "Dear Joanne Lynn !\n",
      "\n",
      "The Socrecy Society is pleased to host Aruptly Goblins! on Monday, come by and have a blast!\n",
      "\n",
      "Regards,\n",
      "The Socrecy Society\n",
      "\n",
      "\n",
      "\n",
      "\n",
      "\n",
      "Dear Latasha Bryan !\n",
      "\n",
      "The Socrecy Society is pleased to host Aruptly Goblins! on Monday, come by and have a blast!\n",
      "\n",
      "Regards,\n",
      "The Socrecy Society\n",
      "\n",
      "\n",
      "\n",
      "\n",
      "\n",
      "Dear Michel Trujillo !\n",
      "\n",
      "The Socrecy Society is pleased to host Aruptly Goblins! on Monday, come by and have a blast!\n",
      "\n",
      "Regards,\n",
      "The Socrecy Society\n",
      "\n",
      "\n",
      "\n"
     ]
    }
   ],
   "metadata": {}
  }
 ],
 "metadata": {
  "kernelspec": {
   "name": "python3",
   "display_name": "Python 3.9.6 64-bit"
  },
  "language_info": {
   "codemirror_mode": {
    "name": "ipython",
    "version": 3
   },
   "file_extension": ".py",
   "mimetype": "text/x-python",
   "name": "python",
   "nbconvert_exporter": "python",
   "pygments_lexer": "ipython3",
   "version": "3.9.6"
  },
  "interpreter": {
   "hash": "e36297b5a13cb8a637370b4d292260e5355f0cfcf5eec9d6b302ea42f8cb65af"
  }
 },
 "nbformat": 4,
 "nbformat_minor": 2
}