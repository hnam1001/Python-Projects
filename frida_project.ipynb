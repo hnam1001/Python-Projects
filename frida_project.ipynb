{
 "cells": [
  {
   "cell_type": "markdown",
   "source": [
    "# Frida Kahlo Exhibition\n",
    "\n",
    "You've been hired to work on a retrospective of Frida Kahlo's work at a major museum. Your job is to put together the audio tour, but in order to do that you need to create a list of each painting featured in the exhibit, the date it was painted, and its spot in the tour. \n",
    "\n",
    "Use your knowledge of Python lists to create a master list of each painting, its date, and its audio tour ID. \n"
   ],
   "metadata": {}
  },
  {
   "cell_type": "markdown",
   "source": [
    "## Task 1\n",
    "First, create a list called `paintings` and add the following titles to it:\n",
    "\n",
    "`The Two Fridas, My Dress Hangs Here, Tree of Hope, Self Portrait With Monkeys`\n"
   ],
   "metadata": {}
  },
  {
   "cell_type": "code",
   "execution_count": 5,
   "source": [
    "paintings = [\"The Two Fridas\", \"My Dress Hangs Here\",\"Tree of Hope\",\"Self Portrait With Monkeys\"]"
   ],
   "outputs": [],
   "metadata": {
    "collapsed": true
   }
  },
  {
   "cell_type": "markdown",
   "source": [
    "## Task 2\n",
    "\n",
    "Next, create a second list called `dates` and give it the following values:\n",
    "`1939, 1933, 1946, 1940`"
   ],
   "metadata": {}
  },
  {
   "cell_type": "code",
   "execution_count": 6,
   "source": [
    "dates = [1939,1933,1946,1940]"
   ],
   "outputs": [],
   "metadata": {
    "collapsed": true
   }
  },
  {
   "cell_type": "markdown",
   "source": [
    "## Task 3 \n",
    "It doesn't do much good to have the paintings without their dates, and vice versa. \n",
    "Zip together the two lists so that each painting is paired with its date and resave it to the `paintings` variable. Make sure to convert the zipped object into a list using the `list()` function. Print the results to the terminal to check your work. "
   ],
   "metadata": {}
  },
  {
   "cell_type": "code",
   "execution_count": 7,
   "source": [
    "paintings = list(zip(paintings,dates))\r\n",
    "paintings"
   ],
   "outputs": [
    {
     "output_type": "execute_result",
     "data": {
      "text/plain": [
       "[('The Two Fridas', 1939),\n",
       " ('My Dress Hangs Here', 1933),\n",
       " ('Tree of Hope', 1946),\n",
       " ('Self Portrait With Monkeys', 1940)]"
      ]
     },
     "metadata": {},
     "execution_count": 7
    }
   ],
   "metadata": {
    "collapsed": true
   }
  },
  {
   "cell_type": "markdown",
   "source": [
    "## Task 4\r\n",
    "There were some last minute additions to the show that we need to add to our list. Append the following paintings to our `paintings` list then re-print to check they were added correctly:\r\n",
    "- 'The Broken Column', 1944\r\n",
    "- 'The Wounded Deer', 1946\r\n",
    "- 'Me and My Doll', 1937\r\n",
    "\r\n"
   ],
   "metadata": {}
  },
  {
   "cell_type": "code",
   "execution_count": 9,
   "source": [
    "paintings.append(\r\n",
    "    {\"The Broken Columns\": 1994}\r\n",
    ")\r\n",
    "\r\n",
    "paintings.append(\r\n",
    "    {\"The Wounded Deer\": 1946}\r\n",
    ")\r\n",
    "\r\n",
    "paintings.append(\r\n",
    "    {\"Me and My Doll\" : 1937}\r\n",
    ")\r\n",
    "\r\n",
    "paintings"
   ],
   "outputs": [
    {
     "output_type": "execute_result",
     "data": {
      "text/plain": [
       "[('The Two Fridas', 1939),\n",
       " ('My Dress Hangs Here', 1933),\n",
       " ('Tree of Hope', 1946),\n",
       " ('Self Portrait With Monkeys', 1940),\n",
       " {'The Broken Columns': 1994},\n",
       " {'The Wounded Deer': 1946},\n",
       " {'Me and My Doll': 1937},\n",
       " {'The Broken Columns': 1994},\n",
       " {'The Wounded Deer': 1946},\n",
       " {'Me and My Doll': 1937}]"
      ]
     },
     "metadata": {},
     "execution_count": 9
    }
   ],
   "metadata": {
    "collapsed": true
   }
  },
  {
   "cell_type": "markdown",
   "source": [
    "## Task 5\r\n",
    "Since each of these paintings is going to be in the audio tour, they each need a unique identification number.\r\n",
    "But before we assign them a number, we first need to check how many paintings there are in total.\r\n",
    "\r\n",
    "Find the length of the `paintings` list."
   ],
   "metadata": {}
  },
  {
   "cell_type": "code",
   "execution_count": 10,
   "source": [
    "len(paintings)"
   ],
   "outputs": [
    {
     "output_type": "execute_result",
     "data": {
      "text/plain": [
       "10"
      ]
     },
     "metadata": {},
     "execution_count": 10
    }
   ],
   "metadata": {
    "collapsed": true
   }
  },
  {
   "cell_type": "markdown",
   "source": [
    "## Task 6\r\n",
    "Generate a list of identification numbers that starts at 1 and is equal in length to our list of items. \r\n",
    "Save the list to the variable `audio_tour_number` and check your work by printing the list."
   ],
   "metadata": {}
  },
  {
   "cell_type": "code",
   "execution_count": 13,
   "source": [
    "audio_tour_number = list(range(len(paintings)))\r\n",
    "audio_tour_number"
   ],
   "outputs": [
    {
     "output_type": "execute_result",
     "data": {
      "text/plain": [
       "[0, 1, 2, 3, 4, 5, 6, 7, 8, 9]"
      ]
     },
     "metadata": {},
     "execution_count": 13
    }
   ],
   "metadata": {
    "collapsed": true
   }
  },
  {
   "cell_type": "markdown",
   "source": [
    "## Task 7 \r\n",
    "\r\n",
    "We're finally read to create our master list. \r\n",
    "Zip the `audio_tour_number` list to the `paintings` list and save it as `master_list`.\r\n"
   ],
   "metadata": {}
  },
  {
   "cell_type": "code",
   "execution_count": 15,
   "source": [
    "master_list = list(zip(audio_tour_number,paintings))\r\n",
    "master_list"
   ],
   "outputs": [
    {
     "output_type": "execute_result",
     "data": {
      "text/plain": [
       "[(0, ('The Two Fridas', 1939)),\n",
       " (1, ('My Dress Hangs Here', 1933)),\n",
       " (2, ('Tree of Hope', 1946)),\n",
       " (3, ('Self Portrait With Monkeys', 1940)),\n",
       " (4, {'The Broken Columns': 1994}),\n",
       " (5, {'The Wounded Deer': 1946}),\n",
       " (6, {'Me and My Doll': 1937}),\n",
       " (7, {'The Broken Columns': 1994}),\n",
       " (8, {'The Wounded Deer': 1946}),\n",
       " (9, {'Me and My Doll': 1937})]"
      ]
     },
     "metadata": {},
     "execution_count": 15
    }
   ],
   "metadata": {
    "collapsed": true
   }
  },
  {
   "cell_type": "markdown",
   "source": [
    "## Task 8 \n",
    "Print the `master_list` to the terminal."
   ],
   "metadata": {}
  },
  {
   "cell_type": "code",
   "execution_count": 17,
   "source": [
    "print(master_list)"
   ],
   "outputs": [
    {
     "output_type": "stream",
     "name": "stdout",
     "text": [
      "[(0, ('The Two Fridas', 1939)), (1, ('My Dress Hangs Here', 1933)), (2, ('Tree of Hope', 1946)), (3, ('Self Portrait With Monkeys', 1940)), (4, {'The Broken Columns': 1994}), (5, {'The Wounded Deer': 1946}), (6, {'Me and My Doll': 1937}), (7, {'The Broken Columns': 1994}), (8, {'The Wounded Deer': 1946}), (9, {'Me and My Doll': 1937})]\n"
     ]
    }
   ],
   "metadata": {
    "collapsed": true
   }
  }
 ],
 "metadata": {
  "kernelspec": {
   "name": "python3",
   "display_name": "Python 3.9.6 64-bit"
  },
  "language_info": {
   "codemirror_mode": {
    "name": "ipython",
    "version": 3
   },
   "file_extension": ".py",
   "mimetype": "text/x-python",
   "name": "python",
   "nbconvert_exporter": "python",
   "pygments_lexer": "ipython3",
   "version": "3.9.6"
  },
  "interpreter": {
   "hash": "e36297b5a13cb8a637370b4d292260e5355f0cfcf5eec9d6b302ea42f8cb65af"
  }
 },
 "nbformat": 4,
 "nbformat_minor": 2
}